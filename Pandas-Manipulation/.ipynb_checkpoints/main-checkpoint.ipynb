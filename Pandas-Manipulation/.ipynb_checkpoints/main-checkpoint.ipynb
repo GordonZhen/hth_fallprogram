{
 "cells": [
  {
   "cell_type": "code",
   "execution_count": 4,
   "id": "ca1bc244",
   "metadata": {},
   "outputs": [],
   "source": [
    "import pandas as pd\n",
    "# Step 1: Use the appropriate pandas method to read the titanic data into your python file \n",
    "titanic_data = pd.read_csv(\"titanic.csv\")\n",
    "titanic_data"
   ]
  },
  {
   "cell_type": "code",
   "execution_count": null,
   "id": "e3f0d6f4",
   "metadata": {},
   "outputs": [],
   "source": [
    "# Step 2(a): Use the pandas method that reads the first 25 lines of the dataset\n",
    "first_25_passengers = titanic_data.head(25)\n",
    "first_25_passengers"
   ]
  },
  {
   "cell_type": "code",
   "execution_count": null,
   "id": "0d358bcb",
   "metadata": {},
   "outputs": [],
   "source": [
    "# Step 2(b): Use the pandas method thats reads the last 25 lines of the dataset\n",
    "last_25_passengers = titanic_data.tail(25)\n",
    "last_25_passengers"
   ]
  },
  {
   "cell_type": "code",
   "execution_count": null,
   "id": "65daef17",
   "metadata": {},
   "outputs": [],
   "source": [
    "# Step 3: Use the pandas method that only tells us the number of rows and columns in our data\n",
    "titanic_shape = titanic_data.shape\n",
    "titanic_shape"
   ]
  },
  {
   "cell_type": "code",
   "execution_count": null,
   "id": "6247eac8",
   "metadata": {},
   "outputs": [],
   "source": [
    "# Step 4: Describe the titanic data\n",
    "titanic_description = titanic_data.describe()\n",
    "titanic_description"
   ]
  },
  {
   "cell_type": "code",
   "execution_count": null,
   "id": "78c4bb96",
   "metadata": {},
   "outputs": [],
   "source": [
    "# Step 5(b): How many passengers were between the ages of 17 to 25?\n",
    "young_adults = titanic_data [ (titanic_data[\"Age\"] >=17) & (titanic_data[\"Age\"]<= 25)].shape[0]\n",
    "young_adults"
   ]
  },
  {
   "cell_type": "code",
   "execution_count": null,
   "id": "d2b5104a",
   "metadata": {},
   "outputs": [],
   "source": [
    "# Step 5(c): How many passengers were between the ages of 26 to 40?\n",
    "adults = titanic_data [ (titanic_data[\"Age\"] >=26) & (titanic_data[\"Age\"]<= 40)].shape[0]\n",
    "adults"
   ]
  },
  {
   "cell_type": "code",
   "execution_count": null,
   "id": "0e706386",
   "metadata": {},
   "outputs": [],
   "source": [
    "# Step 5(d): How many passengers were between the ages of 41 to 59?\n",
    "mature_adults = titanic_data [ (titanic_data[\"Age\"] >=41) & (titanic_data[\"Age\"]<= 59)].shape[0]\n",
    "mature_adults"
   ]
  },
  {
   "cell_type": "code",
   "execution_count": null,
   "id": "5445f6ff",
   "metadata": {},
   "outputs": [],
   "source": [
    "# Step 5(e): How many passengers were 60 or older?\n",
    "seniors = titanic_data [ (titanic_data[\"Age\"] >=60) & (titanic_data[\"Age\"]<= -1)].shape[0]\n",
    "seniors"
   ]
  },
  {
   "cell_type": "code",
   "execution_count": null,
   "id": "b1ba943b",
   "metadata": {},
   "outputs": [],
   "source": [
    "# Step 6: How many values are missing from the \"age\" column\n",
    "missing_ages = len(titanic_data[ titanic_data[\"Age\"].isna()])\n",
    "missing_ages"
   ]
  },
  {
   "cell_type": "code",
   "execution_count": null,
   "id": "a6f61188",
   "metadata": {},
   "outputs": [],
   "source": [
    "# Step 7: List out all the available passengers' ages\n",
    "age_list = titanic_data[\"Age\"].dropna().unique()\n",
    "age_list"
   ]
  },
  {
   "cell_type": "code",
   "execution_count": null,
   "id": "73d804c1",
   "metadata": {},
   "outputs": [],
   "source": [
    "# Step 8: Filter the DataFrame to find all passengers who boarded the Titanic at Port Cherbourg\n",
    "cherbourg_passengers = titanic_data[ titanic_data[\"Embarked\"] == \"C\"]\n",
    "cherbourg_passengers"
   ]
  },
  {
   "cell_type": "code",
   "execution_count": null,
   "id": "8937636e",
   "metadata": {},
   "outputs": [],
   "source": [
    "# Step 9(a): Find the average age of all female passengers\n",
    "avg_fem_age = titanic_data[(titanic_data[\"Sex\"] == \"Female\") & (titanic_data[\"Age\"].notna())].mean()\n",
    "# avg_fem_age = fem_df[\"Age\"].mean()\n",
    "#fem_df = titanic_data[(titanic_data[\"Sex\"] == \"female\") & (titanic_data[\"Age\"].notna())].mean()\n",
    "avg_fem_age"
   ]
  },
  {
   "cell_type": "code",
   "execution_count": null,
   "id": "e8b7d7ec",
   "metadata": {},
   "outputs": [],
   "source": [
    "# Step 9(b): Find the average age of all male passengers\n",
    "avg_male_age = titanic_data[(titanic_data[\"Sex\"] == \"Male\") & (titanic_data[\"Age\"].notna())].mean()\n",
    "avg_male_age"
   ]
  },
  {
   "cell_type": "code",
   "execution_count": null,
   "id": "27c20c3a",
   "metadata": {},
   "outputs": [],
   "source": [
    "# Step 10(a): Find the survival percentage of passengers in group \"C\"\n",
    "cherbourg_passengers = titanic_data[ titanic_data[\"Embarked\"] == \"C\"]\n",
    "survived_df =  cherbourg_passengers[cherbourg_passengers[\"Survived\"] == 1 ] \n",
    "survived_count = len(survived_df)\n",
    "total_count = len(cherbourg_passengers)\n",
    "cherbourg_survival = survived_count / total_count * 100 "
   ]
  },
  {
   "cell_type": "code",
   "execution_count": null,
   "id": "b3f1bae3",
   "metadata": {},
   "outputs": [],
   "source": [
    "# Step 10(b): Find the survival percentage of passengers in group \"Q\"\n",
    "queenstown_passengers = titanic_data [titanic_data[\"Embarked\"] == \"Q\"]\n",
    "\n",
    "survived_df1 = queenstown_passengers[queenstown_passengers[\"Survived\"] == 1]\n",
    "\n",
    "survived_count1 = len(survived_df1)\n",
    "total_count1 = len(queenstown_passengers)\n",
    "queenstown_survival = survived_count1 / total_count1 * 100"
   ]
  },
  {
   "cell_type": "code",
   "execution_count": null,
   "id": "c19b0b44",
   "metadata": {},
   "outputs": [],
   "source": [
    "# Step 10(c): Find the survival percentage of passengers in group \"S\"\n",
    "south_passengers = titanic_data[ titanic_data[\"Embarked\"]== \"S\"]\n",
    "Southampton_survived_df = south_passengers[south_passengers[\"Survived\"] == 1]\n",
    "Southampton_survived_count = len(Southampton_survived_df)\n",
    "Southampton_total_count = len(south_passengers)\n",
    "Southampton_survival = Southampton_survived_count/ Southampton_total_count * 100"
   ]
  }
 ],
 "metadata": {
  "kernelspec": {
   "display_name": "Python 3 (ipykernel)",
   "language": "python",
   "name": "python3"
  },
  "language_info": {
   "codemirror_mode": {
    "name": "ipython",
    "version": 3
   },
   "file_extension": ".py",
   "mimetype": "text/x-python",
   "name": "python",
   "nbconvert_exporter": "python",
   "pygments_lexer": "ipython3",
   "version": "3.10.8"
  },
  "vscode": {
   "interpreter": {
    "hash": "224fbd6e2e5bc281c34ac7bbf07df282af48c4bfe39bbbc5a859aad2d5a644bb"
   }
  }
 },
 "nbformat": 4,
 "nbformat_minor": 5
}
